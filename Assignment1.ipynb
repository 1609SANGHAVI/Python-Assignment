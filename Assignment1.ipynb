{
  "nbformat": 4,
  "nbformat_minor": 0,
  "metadata": {
    "colab": {
      "provenance": []
    },
    "kernelspec": {
      "name": "python3",
      "display_name": "Python 3"
    },
    "language_info": {
      "name": "python"
    }
  },
  "cells": [
    {
      "cell_type": "markdown",
      "source": [
        "Define a variable my_integer with the value 42. Create a variable my_float with the value 3.14. Declare a variable my_string with the value \"Hello, Python!\". Print the type of each variable."
      ],
      "metadata": {
        "id": "ys_AntWuboVq"
      }
    },
    {
      "cell_type": "code",
      "source": [
        "my_integer=42\n",
        "my_float=3.14\n",
        "my_string=\"Hello, Python!\"\n",
        "print(type(my_integer))\n",
        "print(type(my_float))\n",
        "print(type(my_string))"
      ],
      "metadata": {
        "colab": {
          "base_uri": "https://localhost:8080/"
        },
        "id": "L-mdJIkVbmVL",
        "outputId": "87227adb-195d-40ae-f1ae-fd3d204d2250"
      },
      "execution_count": null,
      "outputs": [
        {
          "output_type": "stream",
          "name": "stdout",
          "text": [
            "<class 'int'>\n",
            "<class 'float'>\n",
            "<class 'str'>\n"
          ]
        }
      ]
    },
    {
      "cell_type": "markdown",
      "source": [
        "Implement a program that calculates the area of a rectangle. Take the length and width as input from the user. Use the modulo operator to find the remainder when dividing 15 by 4."
      ],
      "metadata": {
        "id": "TD-gaZNCbv-D"
      }
    },
    {
      "cell_type": "code",
      "source": [
        "length=int(input(\"enter a length value:\"))\n",
        "width=int(input(\"enter a width value:\"))\n",
        "area_rectangle=(length*width)/2\n",
        "print(\"area of a rectangle:\",area_rectangle)\n",
        "\n",
        "rem=15%4\n",
        "print(\"remainder:\",rem)"
      ],
      "metadata": {
        "colab": {
          "base_uri": "https://localhost:8080/"
        },
        "id": "PaaA2SWjbnjb",
        "outputId": "8eaa5623-d3e1-4729-f57c-b387c42418a1"
      },
      "execution_count": 7,
      "outputs": [
        {
          "output_type": "stream",
          "name": "stdout",
          "text": [
            "enter a length value:6\n",
            "enter a width value:5\n",
            "area of a rectangle: 15.0\n",
            "remainder: 3\n"
          ]
        }
      ]
    },
    {
      "cell_type": "markdown",
      "source": [
        "Write a program that checks if a number is positive, negative, or zero. Take the number as input from the user. Implement a program that determines if a given year is a leap year."
      ],
      "metadata": {
        "id": "5SR6BbNZb1bo"
      }
    },
    {
      "cell_type": "code",
      "source": [
        "user_value=int(input(\"Enter a Value:\"))\n",
        "if user_value>0:\n",
        "  print(\"The Given Number is Positive Number:\",user_value)\n",
        "elif user_value==0:\n",
        "  print(\"The Given Number is Zero Number:\",user_value)\n",
        "else:\n",
        "  print(\"The Given Number is Negative Number:\",user_value)\n"
      ],
      "metadata": {
        "colab": {
          "base_uri": "https://localhost:8080/"
        },
        "id": "7JsP57LUbngA",
        "outputId": "f7deb77a-8a6b-4dde-e5ec-f6fa52f4308e"
      },
      "execution_count": null,
      "outputs": [
        {
          "output_type": "stream",
          "name": "stdout",
          "text": [
            "Enter a Value:-6\n",
            "The Given Number is Negative Number: -6\n"
          ]
        }
      ]
    },
    {
      "cell_type": "code",
      "source": [
        "year=int(input(\"Enter a Value:\"))\n",
        "if(year%4==0 and year%100!=0 or year%400==0):\n",
        "  print(\"The year is a leap year!\")\n",
        "else:\n",
        "  print(\"The year isn't a leap year!\")\n"
      ],
      "metadata": {
        "colab": {
          "base_uri": "https://localhost:8080/"
        },
        "id": "HIwcJHuwbnch",
        "outputId": "69eb27b9-d624-480c-e0f6-856005101479"
      },
      "execution_count": null,
      "outputs": [
        {
          "output_type": "stream",
          "name": "stdout",
          "text": [
            "Enter a Value:2009\n",
            "The year isn't a leap year!\n"
          ]
        }
      ]
    },
    {
      "cell_type": "markdown",
      "source": [
        "Use a while loop to print the square of numbers from 1 to 5. Use a for loop to print each character of the string \"Python\".\n",
        "\n",
        "\n"
      ],
      "metadata": {
        "id": "a2XTYeVLb_vG"
      }
    },
    {
      "cell_type": "code",
      "source": [
        "i=1\n",
        "while i<=5:\n",
        " print(i**2)\n",
        " i+=1"
      ],
      "metadata": {
        "colab": {
          "base_uri": "https://localhost:8080/"
        },
        "id": "_lUSRglLbnZT",
        "outputId": "9287fe79-d9e9-41a0-9811-8a0f4acd7cf2"
      },
      "execution_count": null,
      "outputs": [
        {
          "output_type": "stream",
          "name": "stdout",
          "text": [
            "1\n",
            "4\n",
            "9\n",
            "16\n",
            "25\n"
          ]
        }
      ]
    },
    {
      "cell_type": "code",
      "source": [
        "string=\"Python\"\n",
        "for i in string:\n",
        "  print(i)"
      ],
      "metadata": {
        "colab": {
          "base_uri": "https://localhost:8080/"
        },
        "id": "EgZwPqtZbnV6",
        "outputId": "ab7a646e-352d-4d31-8598-f679f5b5e481"
      },
      "execution_count": null,
      "outputs": [
        {
          "output_type": "stream",
          "name": "stdout",
          "text": [
            "P\n",
            "y\n",
            "t\n",
            "h\n",
            "o\n",
            "n\n"
          ]
        }
      ]
    },
    {
      "cell_type": "markdown",
      "source": [
        "Create a function add_numbers that takes any number of arguments and returns their sum. Define a function print_info that takes any number of keyword arguments and prints them."
      ],
      "metadata": {
        "id": "CDIFPqiIcPvD"
      }
    },
    {
      "cell_type": "code",
      "source": [
        "def add_numbers(x,y):\n",
        "  sum=x+y\n",
        "  return sum\n",
        "add_numbers(5,9)"
      ],
      "metadata": {
        "colab": {
          "base_uri": "https://localhost:8080/"
        },
        "id": "RvvZdMJtbnT6",
        "outputId": "83c29f06-e91b-4ba1-e02c-f2b6b12bb5cb"
      },
      "execution_count": null,
      "outputs": [
        {
          "output_type": "execute_result",
          "data": {
            "text/plain": [
              "14"
            ]
          },
          "metadata": {},
          "execution_count": 9
        }
      ]
    },
    {
      "cell_type": "code",
      "source": [
        "def add_numbers(*args):\n",
        "  sum=0\n",
        "  for i in args:\n",
        "    sum+=i\n",
        "  return sum\n",
        "result=add_numbers(5,6,11,3)\n",
        "print(f\"sum:{result}\")"
      ],
      "metadata": {
        "colab": {
          "base_uri": "https://localhost:8080/"
        },
        "id": "qAtFN3FQbmRj",
        "outputId": "f42c4927-1b4d-4014-d95e-da8cc02178e4"
      },
      "execution_count": null,
      "outputs": [
        {
          "output_type": "stream",
          "name": "stdout",
          "text": [
            "sum:25\n"
          ]
        }
      ]
    },
    {
      "cell_type": "code",
      "source": [
        "def print_info(**kwargs):\n",
        "  details = {}\n",
        "  for key,val in kwargs.items():\n",
        "    details[key] = val\n",
        "  print(details)\n",
        "print_info(Name=\"Ram\",Age=25,EmailId=\"ram@gmail.com\")\n",
        "print_info(Name=\"Jimin\",Age=26,EmailId=\"Jiminpark@gmail.com\")\n",
        "print_info(Name=\"Kushi\",Age=20)"
      ],
      "metadata": {
        "colab": {
          "base_uri": "https://localhost:8080/"
        },
        "id": "j83gWcaUbmOp",
        "outputId": "61e2b8ac-de5f-495a-bd2a-85d327b890cb"
      },
      "execution_count": null,
      "outputs": [
        {
          "output_type": "stream",
          "name": "stdout",
          "text": [
            "{'Name': 'Ram', 'Age': 25, 'EmailId': 'ram@gmail.com'}\n",
            "{'Name': 'Jimin', 'Age': 26, 'EmailId': 'Jiminpark@gmail.com'}\n",
            "{'Name': 'Kushi', 'Age': 20}\n"
          ]
        }
      ]
    },
    {
      "cell_type": "markdown",
      "source": [
        "Write a lambda function to calculate the square of a number. Create a list of numbers and use the lambda function with the map function to get a list of their squares."
      ],
      "metadata": {
        "id": "7h2kTWxocaiM"
      }
    },
    {
      "cell_type": "code",
      "source": [
        "square_num=lambda x:x**2\n",
        "square_num(9)"
      ],
      "metadata": {
        "colab": {
          "base_uri": "https://localhost:8080/"
        },
        "id": "g-Qj5lYfbmLx",
        "outputId": "db5cf07d-294a-437d-abe1-ae090157795e"
      },
      "execution_count": null,
      "outputs": [
        {
          "output_type": "execute_result",
          "data": {
            "text/plain": [
              "81"
            ]
          },
          "metadata": {},
          "execution_count": 6
        }
      ]
    },
    {
      "cell_type": "code",
      "source": [
        "x=int(input(\"Enter any Value:\"))\n",
        "square_num=lambda x:x**2\n",
        "square_num(x)"
      ],
      "metadata": {
        "colab": {
          "base_uri": "https://localhost:8080/"
        },
        "id": "u7dG87h2bmJO",
        "outputId": "5616e891-ea64-4a8d-daf6-bbe31ee0174c"
      },
      "execution_count": null,
      "outputs": [
        {
          "name": "stdout",
          "output_type": "stream",
          "text": [
            "Enter any Value:6\n"
          ]
        },
        {
          "output_type": "execute_result",
          "data": {
            "text/plain": [
              "36"
            ]
          },
          "metadata": {},
          "execution_count": 5
        }
      ]
    },
    {
      "cell_type": "code",
      "execution_count": null,
      "metadata": {
        "colab": {
          "base_uri": "https://localhost:8080/"
        },
        "id": "RSbuDshZUy8o",
        "outputId": "f5e6d8a3-f0f4-489e-92da-96b1d2f1a8c6"
      },
      "outputs": [
        {
          "output_type": "stream",
          "name": "stdout",
          "text": [
            "[4, 9, 25, 49, 81, 121]\n"
          ]
        }
      ],
      "source": [
        "numbers = [2,3,5,7,9,11]\n",
        "\n",
        "square_num=list(map(lambda x:x**2,numbers))\n",
        "\n",
        "print(square_num)"
      ]
    },
    {
      "cell_type": "markdown",
      "source": [
        "Define a function double that takes a number as input and returns its double. Use the map function to double each element in a list of numbers."
      ],
      "metadata": {
        "id": "DXdGSE9HcwuC"
      }
    },
    {
      "cell_type": "code",
      "source": [
        "def double(num):\n",
        "   return num*2\n",
        "input_values=input(\"Enter a  list of Values \").split()\n",
        "num = list(map(int, input_values))\n",
        "doubled_numbers = list(map(double, num))\n",
        "print(\"Doubled numbers:\", doubled_numbers)"
      ],
      "metadata": {
        "colab": {
          "base_uri": "https://localhost:8080/"
        },
        "id": "mXdS9BQKbLfW",
        "outputId": "7cb08f20-4d73-4b2f-8a05-83717b7dffa9"
      },
      "execution_count": null,
      "outputs": [
        {
          "output_type": "stream",
          "name": "stdout",
          "text": [
            "Enter a  list of Values 2 5 6 7\n",
            "Doubled numbers: [4, 10, 12, 14]\n"
          ]
        }
      ]
    },
    {
      "cell_type": "markdown",
      "source": [
        "Create a list of numbers and use the filter function to get only the even numbers. Define a function is_prime to check if a number is prime. Use filter to get a list of prime numbers from another list."
      ],
      "metadata": {
        "id": "zaJ0u76teGz1"
      }
    },
    {
      "cell_type": "code",
      "source": [
        "numbers = [1, 2, 3, 4, 5, 6, 7, 8, 9, 10]\n",
        "even_numbers = list(filter(lambda x: x % 2 == 0, numbers))\n",
        "print(even_numbers)"
      ],
      "metadata": {
        "colab": {
          "base_uri": "https://localhost:8080/"
        },
        "id": "QQhlq8qQeIHZ",
        "outputId": "1f8b017f-1d40-4ba8-d7cd-fc5050a63671"
      },
      "execution_count": null,
      "outputs": [
        {
          "output_type": "stream",
          "name": "stdout",
          "text": [
            "[2, 4, 6, 8, 10]\n"
          ]
        }
      ]
    },
    {
      "cell_type": "code",
      "source": [
        "def is_prime(n):\n",
        "    if n>1 and all(n%i !=0  for i in range(2,int(n/2)+1)):\n",
        "       return True\n",
        "    else:\n",
        "       return False\n",
        "n=int(input(\"Enter a integer :\"))\n",
        "if is_prime(n):\n",
        "    print(\"The given number is a Prime Number\")\n",
        "else:\n",
        "    print(\"The given number is Not a Prime Number\")\n",
        "\n",
        "numbers=[2, 5, 8, 11, 14, 17]\n",
        "prime_numbers=list(filter(is_prime,numbers))\n",
        "print(\"The prime numbers from the list are:\",prime_numbers)"
      ],
      "metadata": {
        "id": "joRdHo1wgQkj",
        "colab": {
          "base_uri": "https://localhost:8080/"
        },
        "outputId": "7b510c96-e6d2-4068-e9ac-56d87145b6fb"
      },
      "execution_count": 6,
      "outputs": [
        {
          "output_type": "stream",
          "name": "stdout",
          "text": [
            "Enter a integer :7\n",
            "The given number is a Prime Number\n",
            "The prime numbers from the list are: [2, 5, 11, 17]\n"
          ]
        }
      ]
    },
    {
      "cell_type": "markdown",
      "source": [
        "Write a program using all to check if all elements in a list are integers. Implement a program using any to check if any string in a list is longer than 8 characters.\n",
        "\n"
      ],
      "metadata": {
        "id": "RHRamEWLjE_y"
      }
    },
    {
      "cell_type": "code",
      "source": [
        "list_num=[2 , 5, 8, 11, 14,5]\n",
        "list_values=all(isinstance(x, int) for x in list_num)\n",
        "if list_values:\n",
        "   print(\"The given values are Integers\")\n",
        "else:\n",
        "   print(\"The given values are not Integers\")\n",
        "\n",
        "\n"
      ],
      "metadata": {
        "colab": {
          "base_uri": "https://localhost:8080/"
        },
        "id": "PcDnm3E8jGCy",
        "outputId": "3347307f-c5f0-4977-dbe7-5c94e454b681"
      },
      "execution_count": null,
      "outputs": [
        {
          "output_type": "stream",
          "name": "stdout",
          "text": [
            "The given values are Integers\n"
          ]
        }
      ]
    },
    {
      "cell_type": "code",
      "source": [
        "strings = [\"short\", \"another\", \"example\", \"longstring\"]\n",
        "\n",
        "if any(len(s) > 8 for s in strings):\n",
        "    print(\"At least one of the string is longer than 8 characters.\")\n",
        "else:\n",
        "    print(\"No string in the list is longer than 8 characters.\")"
      ],
      "metadata": {
        "colab": {
          "base_uri": "https://localhost:8080/"
        },
        "id": "oTBaeqGLlv63",
        "outputId": "a3e28e64-e6ec-4010-cd9c-49a4cfbaad41"
      },
      "execution_count": null,
      "outputs": [
        {
          "output_type": "stream",
          "name": "stdout",
          "text": [
            "At least one string in the list is longer than 8 characters.\n"
          ]
        }
      ]
    }
  ]
}